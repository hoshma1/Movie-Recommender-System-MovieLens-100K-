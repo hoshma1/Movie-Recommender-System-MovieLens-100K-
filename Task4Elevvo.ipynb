{
  "nbformat": 4,
  "nbformat_minor": 0,
  "metadata": {
    "colab": {
      "provenance": []
    },
    "kernelspec": {
      "name": "python3",
      "display_name": "Python 3"
    },
    "language_info": {
      "name": "python"
    }
  },
  "cells": [
    {
      "cell_type": "code",
      "source": [
        "import pandas as pd\n",
        "import numpy as np\n",
        "from sklearn.metrics.pairwise import cosine_similarity\n",
        "from sklearn.model_selection import train_test_split\n",
        "from sklearn.metrics import precision_score"
      ],
      "metadata": {
        "id": "GUeY0T76So-C"
      },
      "execution_count": 56,
      "outputs": []
    },
    {
      "cell_type": "code",
      "source": [
        "import zipfile, urllib.request, os\n",
        "\n",
        "url = \"http://files.grouplens.org/datasets/movielens/ml-100k.zip\"\n",
        "zip_path = \"ml-100k.zip\"\n",
        "\n",
        "if not os.path.exists(\"ml-100k\"):\n",
        "    urllib.request.urlretrieve(url, zip_path)\n",
        "    with zipfile.ZipFile(zip_path, 'r') as zip_ref:\n",
        "        zip_ref.extractall(\".\")\n",
        "    os.remove(zip_path)\n",
        "\n",
        "ratings = pd.read_csv(\"ml-100k/u.data\", sep=\"\\t\", names=[\"userId\",\"movieId\",\"rating\",\"timestamp\"])\n",
        "movies = pd.read_csv(\"ml-100k/u.item\", sep=\"|\", names=[\"movieId\",\"title\"]+list(range(22)), encoding=\"latin-1\")[[\"movieId\",\"title\"]]"
      ],
      "metadata": {
        "id": "cK9GLs-kSpAT"
      },
      "execution_count": 57,
      "outputs": []
    },
    {
      "cell_type": "code",
      "source": [
        "train, test = train_test_split(ratings, test_size=0.2, random_state=42)\n"
      ],
      "metadata": {
        "id": "Qu7036YiSpCd"
      },
      "execution_count": 58,
      "outputs": []
    },
    {
      "cell_type": "code",
      "source": [
        "user_item_matrix = train.pivot(index=\"userId\", columns=\"movieId\", values=\"rating\").fillna(0)"
      ],
      "metadata": {
        "id": "I2Spy6A-SpFG"
      },
      "execution_count": 59,
      "outputs": []
    },
    {
      "cell_type": "code",
      "source": [
        "user_ratings_mean = user_item_matrix.mean(axis=1)\n",
        "matrix_normalized = user_item_matrix.sub(user_ratings_mean, axis=0)"
      ],
      "metadata": {
        "id": "NdrGeHYySpHS"
      },
      "execution_count": 60,
      "outputs": []
    },
    {
      "cell_type": "code",
      "source": [
        "user_similarity = cosine_similarity(matrix_normalized)\n",
        "user_similarity_df = pd.DataFrame(user_similarity, index=user_item_matrix.index, columns=user_item_matrix.index)"
      ],
      "metadata": {
        "id": "MArAskgPSpJi"
      },
      "execution_count": 61,
      "outputs": []
    },
    {
      "cell_type": "code",
      "source": [
        "item_similarity = cosine_similarity(matrix_normalized.T)\n",
        "item_similarity_df = pd.DataFrame(item_similarity, index=user_item_matrix.columns, columns=user_item_matrix.columns)\n"
      ],
      "metadata": {
        "id": "tQPMwC2hS27b"
      },
      "execution_count": 62,
      "outputs": []
    },
    {
      "cell_type": "code",
      "source": [
        "def recommend_user_based(user_id, top_n=5):\n",
        "    sim_scores = user_similarity_df.loc[user_id].drop(user_id)\n",
        "    similar_users = sim_scores.sort_values(ascending=False).head(10).index\n",
        "\n",
        "    # Weighted ratings\n",
        "    weighted_ratings = user_item_matrix.loc[similar_users].T.dot(sim_scores.loc[similar_users])\n",
        "    norm = sim_scores.loc[similar_users].sum()\n",
        "    scores = weighted_ratings / (norm+1e-8)\n",
        "\n",
        "    # Remove already seen movies\n",
        "    seen = set(train[train[\"userId\"] == user_id][\"movieId\"])\n",
        "    scores = scores.drop(labels=seen, errors=\"ignore\")\n",
        "\n",
        "    return scores.sort_values(ascending=False).head(top_n)\n",
        "\n",
        "def recommend_item_based(user_id, top_n=5):\n",
        "    user_ratings = user_item_matrix.loc[user_id]\n",
        "    scores = item_similarity_df.dot(user_ratings)\n",
        "    scores = scores / (item_similarity_df.sum(axis=1)+1e-8)\n",
        "\n",
        "    # Remove already seen movies\n",
        "    seen = set(train[train[\"userId\"] == user_id][\"movieId\"])\n",
        "    scores = scores.drop(labels=seen, errors=\"ignore\")\n",
        "\n",
        "    return scores.sort_values(ascending=False).head(top_n)"
      ],
      "metadata": {
        "id": "QPdJJ4fES29-"
      },
      "execution_count": 63,
      "outputs": []
    },
    {
      "cell_type": "code",
      "source": [
        "def precision_at_k(user_id, k=5, method=\"user\"):\n",
        "    # Ground truth: movies in TEST set for this user\n",
        "    true_items = set(test[test[\"userId\"] == user_id][\"movieId\"])\n",
        "    if len(true_items) == 0:\n",
        "        return None  # skip users with no test data\n",
        "\n",
        "    # Recommendations\n",
        "    if method == \"user\":\n",
        "        recs = recommend_user_based(user_id, k).index\n",
        "    else:\n",
        "        recs = recommend_item_based(user_id, k).index\n",
        "\n",
        "    # Precision@K\n",
        "    hit_count = len(set(recs).intersection(true_items))\n",
        "    return hit_count / k"
      ],
      "metadata": {
        "id": "V6dC7miPS2_-"
      },
      "execution_count": 64,
      "outputs": []
    },
    {
      "cell_type": "code",
      "source": [
        "users = test[\"userId\"].unique()\n",
        "precisions_user = [precision_at_k(u, k=5, method=\"user\") for u in users]\n",
        "precisions_item = [precision_at_k(u, k=5, method=\"item\") for u in users]\n",
        "\n",
        "precisions_user = [p for p in precisions_user if p is not None]\n",
        "precisions_item = [p for p in precisions_item if p is not None]\n",
        "\n",
        "print(\"🔹 Example recommendations for User 1 (User-based):\")\n",
        "print(recommend_user_based(1, 5).map(lambda x: round(x,2)))\n",
        "\n",
        "print(\"\\n🔹 Example recommendations for User 1 (Item-based):\")\n",
        "print(recommend_item_based(1, 5).map(lambda x: round(x,2)))\n",
        "\n",
        "print(f\"\\n✅ Average Precision@5 (User-based, {len(precisions_user)} users): {np.mean(precisions_user):.3f}\")\n",
        "print(f\"✅ Average Precision@5 (Item-based, {len(precisions_item)} users): {np.mean(precisions_item):.3f}\")"
      ],
      "metadata": {
        "colab": {
          "base_uri": "https://localhost:8080/"
        },
        "id": "Y1STds1QTAxE",
        "outputId": "34ac6962-964a-4588-f385-088ca8a60654"
      },
      "execution_count": 65,
      "outputs": [
        {
          "output_type": "stream",
          "name": "stdout",
          "text": [
            "🔹 Example recommendations for User 1 (User-based):\n",
            "movieId\n",
            "100    3.50\n",
            "181    3.22\n",
            "4      3.22\n",
            "64     3.11\n",
            "82     3.07\n",
            "dtype: float64\n",
            "\n",
            "🔹 Example recommendations for User 1 (Item-based):\n",
            "movieId\n",
            "895    10.05\n",
            "676     5.85\n",
            "945     2.16\n",
            "354     1.91\n",
            "331     1.78\n",
            "dtype: float64\n",
            "\n",
            "✅ Average Precision@5 (User-based, 940 users): 0.349\n",
            "✅ Average Precision@5 (Item-based, 940 users): 0.020\n"
          ]
        }
      ]
    },
    {
      "cell_type": "code",
      "source": [],
      "metadata": {
        "id": "pO4nCXc3TAzw"
      },
      "execution_count": null,
      "outputs": []
    }
  ]
}